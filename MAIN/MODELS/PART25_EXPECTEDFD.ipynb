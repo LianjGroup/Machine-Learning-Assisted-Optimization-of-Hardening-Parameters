{
 "cells": [
  {
   "cell_type": "code",
   "execution_count": 2,
   "metadata": {},
   "outputs": [
    {
     "ename": "ValueError",
     "evalue": "no field of name displacement/mm",
     "output_type": "error",
     "traceback": [
      "\u001b[0;31m---------------------------------------------------------------------------\u001b[0m",
      "\u001b[0;31mValueError\u001b[0m                                Traceback (most recent call last)",
      "\u001b[1;32m/Users/sankoktas/Desktop/coeproject3/MAIN/MODELS/PART25_EXPECTEDFD.ipynb Cell 1\u001b[0m line \u001b[0;36m8\n\u001b[1;32m      <a href='vscode-notebook-cell:/Users/sankoktas/Desktop/coeproject3/MAIN/MODELS/PART25_EXPECTEDFD.ipynb#W0sZmlsZQ%3D%3D?line=4'>5</a>\u001b[0m data \u001b[39m=\u001b[39m np\u001b[39m.\u001b[39mgenfromtxt(\u001b[39m\"\u001b[39m\u001b[39mEXP_FD/CHD6_FD_Curve.csv\u001b[39m\u001b[39m\"\u001b[39m, delimiter\u001b[39m=\u001b[39m\u001b[39m'\u001b[39m\u001b[39m,\u001b[39m\u001b[39m'\u001b[39m, names\u001b[39m=\u001b[39m\u001b[39mTrue\u001b[39;00m, dtype\u001b[39m=\u001b[39m\u001b[39mNone\u001b[39;00m)\n\u001b[1;32m      <a href='vscode-notebook-cell:/Users/sankoktas/Desktop/coeproject3/MAIN/MODELS/PART25_EXPECTEDFD.ipynb#W0sZmlsZQ%3D%3D?line=6'>7</a>\u001b[0m \u001b[39m# Extract displacement (mm) and force (kN)\u001b[39;00m\n\u001b[0;32m----> <a href='vscode-notebook-cell:/Users/sankoktas/Desktop/coeproject3/MAIN/MODELS/PART25_EXPECTEDFD.ipynb#W0sZmlsZQ%3D%3D?line=7'>8</a>\u001b[0m displacement_mm \u001b[39m=\u001b[39m data[\u001b[39m'\u001b[39;49m\u001b[39mdisplacement/mm\u001b[39;49m\u001b[39m'\u001b[39;49m]\n\u001b[1;32m      <a href='vscode-notebook-cell:/Users/sankoktas/Desktop/coeproject3/MAIN/MODELS/PART25_EXPECTEDFD.ipynb#W0sZmlsZQ%3D%3D?line=8'>9</a>\u001b[0m force_kN \u001b[39m=\u001b[39m data[\u001b[39m'\u001b[39m\u001b[39mforce/kN\u001b[39m\u001b[39m'\u001b[39m]\n\u001b[1;32m     <a href='vscode-notebook-cell:/Users/sankoktas/Desktop/coeproject3/MAIN/MODELS/PART25_EXPECTEDFD.ipynb#W0sZmlsZQ%3D%3D?line=10'>11</a>\u001b[0m \u001b[39m# Convert force from kN to N\u001b[39;00m\n",
      "\u001b[0;31mValueError\u001b[0m: no field of name displacement/mm"
     ]
    }
   ],
   "source": [
    "import numpy as np\n",
    "import matplotlib.pyplot as plt\n",
    "\n",
    "# Load the data from the CSV file\n",
    "data = np.genfromtxt(\"EXP_FD/CHD6_FD_Curve.csv\", delimiter=',', names=True, dtype=None)\n",
    "\n",
    "# Extract displacement (mm) and force (kN)\n",
    "displacement_mm = data['displacement/mm']\n",
    "force_kN = data['force/kN']\n",
    "\n",
    "# Convert force from kN to N\n",
    "force_N = force_kN * 1000  # 1 kN = 1000 N\n",
    "\n",
    "# Plot the force-displacement curve\n",
    "plt.figure(figsize=(8, 6))\n",
    "plt.plot(displacement_mm, force_N, marker='o', linestyle='-')\n",
    "plt.title('Force-Displacement Curve')\n",
    "plt.xlabel('Displacement (mm)')\n",
    "plt.ylabel('Force (N)')\n",
    "plt.grid(True)\n",
    "\n",
    "# Show the plot\n",
    "plt.show()"
   ]
  }
 ],
 "metadata": {
  "kernelspec": {
   "display_name": "Python 3",
   "language": "python",
   "name": "python3"
  },
  "language_info": {
   "codemirror_mode": {
    "name": "ipython",
    "version": 3
   },
   "file_extension": ".py",
   "mimetype": "text/x-python",
   "name": "python",
   "nbconvert_exporter": "python",
   "pygments_lexer": "ipython3",
   "version": "3.11.5"
  }
 },
 "nbformat": 4,
 "nbformat_minor": 2
}
