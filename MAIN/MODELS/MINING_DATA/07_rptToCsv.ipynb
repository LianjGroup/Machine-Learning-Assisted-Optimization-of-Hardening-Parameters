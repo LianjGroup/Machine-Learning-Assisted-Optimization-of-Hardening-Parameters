{
 "cells": [
  {
   "cell_type": "code",
   "execution_count": 9,
   "metadata": {},
   "outputs": [],
   "source": [
    "import pandas as pd\n",
    "\n",
    "# Specify the path to the .rpt file\n",
    "rpt_file = 'ndb50_FD_second.rpt'\n",
    "\n",
    "# Read the .rpt file into a DataFrame\n",
    "df = pd.read_csv(rpt_file, delimiter='\\t', skiprows=4, names=['Disp', 'Force'])\n",
    "\n",
    "# Specify the path and filename for the output .csv file\n",
    "csv_file = 'ndb50_FD_second.csv'\n",
    "\n",
    "# Write the DataFrame to a .csv file\n",
    "df.to_csv(csv_file, index=False)"
   ]
  }
 ],
 "metadata": {
  "kernelspec": {
   "display_name": "Python 3",
   "language": "python",
   "name": "python3"
  },
  "language_info": {
   "codemirror_mode": {
    "name": "ipython",
    "version": 3
   },
   "file_extension": ".py",
   "mimetype": "text/x-python",
   "name": "python",
   "nbconvert_exporter": "python",
   "pygments_lexer": "ipython3",
   "version": "3.11.5"
  }
 },
 "nbformat": 4,
 "nbformat_minor": 2
}
