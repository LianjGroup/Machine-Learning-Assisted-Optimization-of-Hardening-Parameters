{
 "cells": [
  {
   "cell_type": "code",
   "execution_count": 1,
   "metadata": {},
   "outputs": [],
   "source": [
    "import numpy as np\n",
    "import csv\n",
    "\n",
    "file_name = \"MODEL_DATA/00_CHD6_FD_Curves_smooth.npy\"\n",
    "loaded_data = np.load(file_name, allow_pickle=True)\n",
    "\n",
    "# Extract 'c1' to 'c7' values\n",
    "c_values = []\n",
    "for key in loaded_data.item():\n",
    "    c1 = key[0][1]\n",
    "    c2 = key[1][1]\n",
    "    c3 = key[2][1]\n",
    "    c4 = key[3][1]\n",
    "    c5 = key[4][1]\n",
    "    c6 = key[5][1]\n",
    "    c7 = key[6][1]\n",
    "    c_values.append([c1, c2, c3, c4, c5, c6, c7])\n",
    "\n",
    "# Save the 'c1' to 'c7' values as a CSV file\n",
    "with open('newData_HardParam.csv', 'w', newline='') as csvfile:\n",
    "    writer = csv.writer(csvfile)\n",
    "    writer.writerows(c_values)"
   ]
  }
 ],
 "metadata": {
  "kernelspec": {
   "display_name": "Python 3",
   "language": "python",
   "name": "python3"
  },
  "language_info": {
   "codemirror_mode": {
    "name": "ipython",
    "version": 3
   },
   "file_extension": ".py",
   "mimetype": "text/x-python",
   "name": "python",
   "nbconvert_exporter": "python",
   "pygments_lexer": "ipython3",
   "version": "3.11.5"
  }
 },
 "nbformat": 4,
 "nbformat_minor": 2
}
