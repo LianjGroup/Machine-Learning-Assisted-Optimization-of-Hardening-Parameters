{
 "cells": [
  {
   "cell_type": "code",
   "execution_count": 1,
   "metadata": {},
   "outputs": [
    {
     "name": "stdout",
     "output_type": "stream",
     "text": [
      "Done\n"
     ]
    }
   ],
   "source": [
    "import pandas as pd\n",
    "import numpy as np\n",
    "\n",
    "# Load the original CSV data\n",
    "original_data = pd.read_csv('400c_hardParam.csv')\n",
    "\n",
    "# Calculate the number of repetitions (10201 times)\n",
    "repetitions = 101\n",
    "\n",
    "# Repeat each row using NumPy\n",
    "expanded_data = pd.DataFrame(np.repeat(original_data.values, repetitions, axis=0), columns=original_data.columns)\n",
    "\n",
    "# Save the expanded data to a new CSV file\n",
    "expanded_data.to_csv('400c_expanded_hardParam.csv', index=False)\n",
    "\n",
    "print(f\"Done\")"
   ]
  },
  {
   "cell_type": "markdown",
   "metadata": {},
   "source": []
  }
 ],
 "metadata": {
  "kernelspec": {
   "display_name": "Python 3",
   "language": "python",
   "name": "python3"
  },
  "language_info": {
   "codemirror_mode": {
    "name": "ipython",
    "version": 3
   },
   "file_extension": ".py",
   "mimetype": "text/x-python",
   "name": "python",
   "nbconvert_exporter": "python",
   "pygments_lexer": "ipython3",
   "version": "3.11.5"
  }
 },
 "nbformat": 4,
 "nbformat_minor": 2
}
