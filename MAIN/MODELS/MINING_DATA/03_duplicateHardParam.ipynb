{
 "cells": [
  {
   "cell_type": "code",
   "execution_count": 1,
   "metadata": {},
   "outputs": [
    {
     "name": "stdout",
     "output_type": "stream",
     "text": [
      "CSV file 'expanded_realHardParam.csv' has been created with 20099 rows.\n"
     ]
    }
   ],
   "source": [
    "import pandas as pd\n",
    "import numpy as np\n",
    "\n",
    "# Load the original CSV data\n",
    "original_data = pd.read_csv('newData_HardParam.csv')\n",
    "\n",
    "# Calculate the number of repetitions (10201 times)\n",
    "repetitions = 101\n",
    "\n",
    "# Repeat each row using NumPy\n",
    "expanded_data = pd.DataFrame(np.repeat(original_data.values, repetitions, axis=0), columns=original_data.columns)\n",
    "\n",
    "# Save the expanded data to a new CSV file\n",
    "expanded_data.to_csv('newData_expanded_realHardParam.csv', index=False)\n",
    "\n",
    "print(f\"CSV file 'expanded_realHardParam.csv' has been created with {len(expanded_data)} rows.\")"
   ]
  },
  {
   "cell_type": "markdown",
   "metadata": {},
   "source": []
  }
 ],
 "metadata": {
  "kernelspec": {
   "display_name": "Python 3",
   "language": "python",
   "name": "python3"
  },
  "language_info": {
   "codemirror_mode": {
    "name": "ipython",
    "version": 3
   },
   "file_extension": ".py",
   "mimetype": "text/x-python",
   "name": "python",
   "nbconvert_exporter": "python",
   "pygments_lexer": "ipython3",
   "version": "3.11.5"
  }
 },
 "nbformat": 4,
 "nbformat_minor": 2
}
