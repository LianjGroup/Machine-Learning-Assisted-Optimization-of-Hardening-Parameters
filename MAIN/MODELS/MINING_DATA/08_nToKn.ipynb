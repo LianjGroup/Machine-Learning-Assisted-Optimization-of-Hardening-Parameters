{
 "cells": [
  {
   "cell_type": "code",
   "execution_count": 1,
   "metadata": {},
   "outputs": [],
   "source": [
    "import pandas as pd\n",
    "\n",
    "# Read the CSV file\n",
    "df = pd.read_csv('400c_combined.csv')\n",
    "\n",
    "# List of columns containing 'Force'\n",
    "force_columns = [col for col in df.columns if 'Force' in col]\n",
    "\n",
    "# Divide all values in force columns by 1000\n",
    "df[force_columns] = df[force_columns] / 1000\n",
    "df[force_columns] = df[force_columns].round(4)\n",
    "\n",
    "# Save the updated data to a new CSV file\n",
    "df.to_csv('updated_file.csv', index=False)"
   ]
  }
 ],
 "metadata": {
  "kernelspec": {
   "display_name": "Python 3",
   "language": "python",
   "name": "python3"
  },
  "language_info": {
   "codemirror_mode": {
    "name": "ipython",
    "version": 3
   },
   "file_extension": ".py",
   "mimetype": "text/x-python",
   "name": "python",
   "nbconvert_exporter": "python",
   "pygments_lexer": "ipython3",
   "version": "3.11.5"
  }
 },
 "nbformat": 4,
 "nbformat_minor": 2
}
