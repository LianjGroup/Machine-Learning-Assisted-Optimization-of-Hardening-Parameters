{
 "cells": [
  {
   "cell_type": "code",
   "execution_count": 1,
   "metadata": {},
   "outputs": [],
   "source": [
    "import pandas as pd\n",
    "\n",
    "# List of file paths for the CSV files to be combined\n",
    "csv_files = [\"newData_CHD6_FD.csv\", \"newData_NDBR6_FD.csv\", \"newData_NDBR20_FD.csv\", \"newData_NDBR50_FD.csv\"]\n",
    "\n",
    "# Initialize an empty DataFrame to store the combined data\n",
    "combined_df = pd.DataFrame()\n",
    "\n",
    "# Loop through the list of CSV files and combine them horizontally\n",
    "for file in csv_files:\n",
    "    df = pd.read_csv(file)  # Read each CSV file\n",
    "    combined_df = pd.concat([combined_df, df], axis=1)\n",
    "\n",
    "# Save the combined dataframe to a new CSV file\n",
    "combined_df.to_csv(\"combined_file.csv\", index=False)"
   ]
  },
  {
   "cell_type": "code",
   "execution_count": 2,
   "metadata": {},
   "outputs": [
    {
     "name": "stdout",
     "output_type": "stream",
     "text": [
      "First column has been exported to seventh_column.csv\n"
     ]
    }
   ],
   "source": [
    "import pandas as pd\n",
    "\n",
    "# Load the CSV file\n",
    "csv_file = \"newData_expanded_realHardParam.csv\"  # Replace with the path to your CSV file\n",
    "data = pd.read_csv(csv_file)\n",
    "\n",
    "# Extract the first column\n",
    "first_column = data.iloc[:, 6]\n",
    "\n",
    "# Save the first column to a new CSV file\n",
    "output_file = \"seventh_column.csv\"  # Replace with the desired output file path\n",
    "first_column.to_csv(output_file, index=False, header=False)\n",
    "\n",
    "print(\"First column has been exported to\", output_file)"
   ]
  }
 ],
 "metadata": {
  "kernelspec": {
   "display_name": "Python 3",
   "language": "python",
   "name": "python3"
  },
  "language_info": {
   "codemirror_mode": {
    "name": "ipython",
    "version": 3
   },
   "file_extension": ".py",
   "mimetype": "text/x-python",
   "name": "python",
   "nbconvert_exporter": "python",
   "pygments_lexer": "ipython3",
   "version": "3.11.5"
  }
 },
 "nbformat": 4,
 "nbformat_minor": 2
}
