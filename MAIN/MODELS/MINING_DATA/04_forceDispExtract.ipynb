{
 "cells": [
  {
   "cell_type": "code",
   "execution_count": 5,
   "metadata": {},
   "outputs": [
    {
     "name": "stdout",
     "output_type": "stream",
     "text": [
      "Exported\n"
     ]
    }
   ],
   "source": [
    "import numpy as np\n",
    "import pandas as pd\n",
    "\n",
    "# Specify the path to the .npy file\n",
    "file_name = \"400C/NDBR6_FD_Curves_smooth.npy\"\n",
    "loaded_data = np.load(file_name, allow_pickle=True)[()]\n",
    "\n",
    "# Initialize empty lists to store force and displacement data\n",
    "force_data_list = []\n",
    "displacement_data_list = []\n",
    "\n",
    "# Loop through each dictionary in the loaded data\n",
    "for data_dict in loaded_data.values():\n",
    "    force_data = data_dict['force']\n",
    "    displacement_data = data_dict['displacement']\n",
    "    \n",
    "    # Combine force and displacement data into rows\n",
    "    combined_data = list(zip(force_data, displacement_data))\n",
    "    force_data_list.extend([data[0] for data in combined_data])\n",
    "    displacement_data_list.extend([data[1] for data in combined_data])\n",
    "\n",
    "# Create a DataFrame\n",
    "combined_df = pd.DataFrame({'Force': force_data_list, 'Displacement': displacement_data_list})\n",
    "\n",
    "# Export the combined DataFrame to a CSV file\n",
    "combined_df.to_csv('400c_ndb6.csv', index=False)\n",
    "\n",
    "print(\"Exported\")\n"
   ]
  }
 ],
 "metadata": {
  "kernelspec": {
   "display_name": "Python 3",
   "language": "python",
   "name": "python3"
  },
  "language_info": {
   "codemirror_mode": {
    "name": "ipython",
    "version": 3
   },
   "file_extension": ".py",
   "mimetype": "text/x-python",
   "name": "python",
   "nbconvert_exporter": "python",
   "pygments_lexer": "ipython3",
   "version": "3.11.5"
  }
 },
 "nbformat": 4,
 "nbformat_minor": 2
}
