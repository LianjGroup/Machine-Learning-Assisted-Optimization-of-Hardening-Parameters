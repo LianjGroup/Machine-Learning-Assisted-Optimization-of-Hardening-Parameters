{
 "cells": [
  {
   "cell_type": "code",
   "execution_count": 1,
   "metadata": {},
   "outputs": [
    {
     "name": "stdout",
     "output_type": "stream",
     "text": [
      "Formatted data saved to MODEL_DATA/StressStrain/chd6_strain_data_formatted.csv\n"
     ]
    }
   ],
   "source": [
    "input_file = 'MODEL_DATA/StressStrain/chd6_strain_data.csv'\n",
    "output_file = 'MODEL_DATA/StressStrain/chd6_strain_data_formatted.csv'\n",
    "\n",
    "# Read the input file and split the values\n",
    "with open(input_file, 'r') as f:\n",
    "    data = f.read()\n",
    "    values = data.split(',')\n",
    "\n",
    "# Write the values to the output file with each value on a new line\n",
    "with open(output_file, 'w') as f:\n",
    "    f.writelines('\\n'.join(values))\n",
    "\n",
    "print(f'Formatted data saved to {output_file}')\n"
   ]
  }
 ],
 "metadata": {
  "kernelspec": {
   "display_name": "Python 3",
   "language": "python",
   "name": "python3"
  },
  "language_info": {
   "codemirror_mode": {
    "name": "ipython",
    "version": 3
   },
   "file_extension": ".py",
   "mimetype": "text/x-python",
   "name": "python",
   "nbconvert_exporter": "python",
   "pygments_lexer": "ipython3",
   "version": "3.11.5"
  }
 },
 "nbformat": 4,
 "nbformat_minor": 2
}
