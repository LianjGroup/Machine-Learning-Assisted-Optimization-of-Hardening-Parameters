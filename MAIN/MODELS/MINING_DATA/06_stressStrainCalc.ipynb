{
 "cells": [
  {
   "cell_type": "code",
   "execution_count": 1,
   "metadata": {},
   "outputs": [],
   "source": [
    "import pandas as pd\n",
    "import numpy as np\n",
    "\n",
    "def swiftVoceT(x, c1, c2, c3, c4, c5, c6, c7):\n",
    "    return c1 * c2 * (x + c3) ** c4 + (1 - c1) * c5 + c6 * (1 - np.exp(-c7 * x))\n",
    "\n",
    "\n",
    "truePlasticStrain = np.arange(0, 3.0005, 0.0005)\n",
    "c1 = 0.6687430739402771\n",
    "c2 = 1276.127197265625\n",
    "c3 = 0.043472327291965485\n",
    "c4 = 0.17\n",
    "c5 = 1467.2874755859375\n",
    "c6 = 700\n",
    "c7 = 347.3883361816406\n",
    "\n",
    "# Calculate the predicted values\n",
    "y_line_maxStress_sw_predicted = swiftVoceT(truePlasticStrain, c1, c2, c3, c4, c5, c6, c7)\n",
    "\n",
    "# Round the values to three decimal places using list comprehensions\n",
    "y_line_maxStress_sw_predicted = [round(val, 3) for val in y_line_maxStress_sw_predicted]\n",
    "c1, c2, c3, c4, c5, c6, c7 = [round(val, 3) for val in [c1, c2, c3, c4, c5, c6, c7]]\n",
    "\n",
    "# Round the truePlasticStrain array\n",
    "truePlasticStrain = [round(val, 4) for val in truePlasticStrain]\n",
    "\n",
    "# Create a DataFrame with strain and stress columns\n",
    "df = pd.DataFrame({'Stress': y_line_maxStress_sw_predicted, 'Strain': truePlasticStrain})\n",
    "\n",
    "# Export the DataFrame to a CSV file\n",
    "df.to_csv('stress_strain_data_edited_25c.csv', index=False)"
   ]
  }
 ],
 "metadata": {
  "kernelspec": {
   "display_name": "Python 3",
   "language": "python",
   "name": "python3"
  },
  "language_info": {
   "codemirror_mode": {
    "name": "ipython",
    "version": 3
   },
   "file_extension": ".py",
   "mimetype": "text/x-python",
   "name": "python",
   "nbconvert_exporter": "python",
   "pygments_lexer": "ipython3",
   "version": "3.11.5"
  }
 },
 "nbformat": 4,
 "nbformat_minor": 2
}
