{
 "cells": [
  {
   "cell_type": "code",
   "execution_count": 4,
   "metadata": {},
   "outputs": [],
   "source": [
    "import pandas as pd\n",
    "import numpy as np\n",
    "\n",
    "def swiftVoceT(x, c1, c2, c3, c4, c5, c6, c7):\n",
    "    return c1 * c2 * (x + c3) ** c4 + (1 - c1) * c5 + c6 * (1 - np.exp(-c7 * x))\n",
    "\n",
    "\n",
    "truePlasticStrain = np.arange(0, 3.0005, 0.0005)\n",
    "c1 = 0.5134881138801575\n",
    "c2 = 1561.7705078125\n",
    "c3 = 0.03979836031794548\n",
    "c4 = 0.17\n",
    "c5 = 744.1658325195312\n",
    "c6 = 898.7704467773438\n",
    "c7 = 521.6972045898438\n",
    "\n",
    "# Calculate the predicted values\n",
    "y_line_maxStress_sw_predicted = swiftVoceT(truePlasticStrain, c1, c2, c3, c4, c5, c6, c7)\n",
    "\n",
    "# Round the values to three decimal places using list comprehensions\n",
    "y_line_maxStress_sw_predicted = [round(val, 3) for val in y_line_maxStress_sw_predicted]\n",
    "c1, c2, c3, c4, c5, c6, c7 = [round(val, 3) for val in [c1, c2, c3, c4, c5, c6, c7]]\n",
    "\n",
    "# Round the truePlasticStrain array\n",
    "truePlasticStrain = [round(val, 4) for val in truePlasticStrain]\n",
    "\n",
    "# Create a DataFrame with strain and stress columns\n",
    "df = pd.DataFrame({'Stress': y_line_maxStress_sw_predicted, 'Strain': truePlasticStrain})\n",
    "\n",
    "# Export the DataFrame to a CSV file\n",
    "df.to_csv('ss_xgb_400c.csv', index=False)"
   ]
  }
 ],
 "metadata": {
  "kernelspec": {
   "display_name": "Python 3",
   "language": "python",
   "name": "python3"
  },
  "language_info": {
   "codemirror_mode": {
    "name": "ipython",
    "version": 3
   },
   "file_extension": ".py",
   "mimetype": "text/x-python",
   "name": "python",
   "nbconvert_exporter": "python",
   "pygments_lexer": "ipython3",
   "version": "3.11.5"
  }
 },
 "nbformat": 4,
 "nbformat_minor": 2
}
