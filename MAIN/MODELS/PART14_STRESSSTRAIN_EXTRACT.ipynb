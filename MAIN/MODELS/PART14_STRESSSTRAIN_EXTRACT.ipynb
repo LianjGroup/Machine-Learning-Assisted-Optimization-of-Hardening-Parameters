{
 "cells": [
  {
   "cell_type": "code",
   "execution_count": 11,
   "metadata": {},
   "outputs": [],
   "source": [
    "import numpy as np\n",
    "import csv\n",
    "\n",
    "file_name = \"MODEL_DATA/StressStrain/NDBR6_flowCurves.npy\"\n",
    "loaded_data = np.load(file_name, allow_pickle=True)\n",
    "\n",
    "# Extract 'stress' data and ignore other values\n",
    "stress_data = [value['strain'] for value in loaded_data.item().values()]\n",
    "\n",
    "# Save the stress data as a CSV file\n",
    "with open('ndbr6_strain_data.csv', 'w', newline='') as csvfile:\n",
    "    writer = csv.writer(csvfile)\n",
    "    writer.writerows(stress_data)"
   ]
  },
  {
   "cell_type": "code",
   "execution_count": null,
   "metadata": {},
   "outputs": [],
   "source": [
    "import numpy as np\n",
    "import csv\n",
    "\n",
    "file_name = \"MODEL_DATA/StressStrain/NDBR6_flowCurves.npy\"\n",
    "loaded_data = np.load(file_name, allow_pickle=True)\n",
    "\n",
    "# Extract 'stress' data and ignore other values\n",
    "stress_data = [value['strain'] for value in loaded_data.item().values()]\n",
    "\n",
    "# Save the stress data as a CSV file\n",
    "with open('ndbr6_strain_data.csv', 'w', newline='') as csvfile:\n",
    "    writer = csv.writer(csvfile)\n",
    "    writer.writerows(stress_data)"
   ]
  }
 ],
 "metadata": {
  "kernelspec": {
   "display_name": "Python 3",
   "language": "python",
   "name": "python3"
  },
  "language_info": {
   "codemirror_mode": {
    "name": "ipython",
    "version": 3
   },
   "file_extension": ".py",
   "mimetype": "text/x-python",
   "name": "python",
   "nbconvert_exporter": "python",
   "pygments_lexer": "ipython3",
   "version": "3.11.5"
  }
 },
 "nbformat": 4,
 "nbformat_minor": 2
}
