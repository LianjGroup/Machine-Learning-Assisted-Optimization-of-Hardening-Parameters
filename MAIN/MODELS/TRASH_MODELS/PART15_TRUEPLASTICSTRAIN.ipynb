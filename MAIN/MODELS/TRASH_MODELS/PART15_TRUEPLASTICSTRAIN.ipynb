{
 "cells": [
  {
   "cell_type": "code",
   "execution_count": 1,
   "metadata": {},
   "outputs": [
    {
     "name": "stdout",
     "output_type": "stream",
     "text": [
      "True Plastic Strain for 'chd6': 466550.73200000013\n"
     ]
    }
   ],
   "source": [
    "import numpy as np\n",
    "import pandas as pd\n",
    "\n",
    "# Load the stress and strain data from the CSV files\n",
    "stress_data = pd.read_csv('MODEL_DATA/StressStrain/chd6_stress_data.csv', header=None)\n",
    "strain_data = pd.read_csv('MODEL_DATA/StressStrain/chd6_strain_data.csv', header=None)\n",
    "\n",
    "# Extract stress and strain as NumPy arrays\n",
    "stress = stress_data.values.flatten()\n",
    "strain = strain_data.values.flatten()\n",
    "\n",
    "# Replace this with the actual yield stress value for 'chd6'\n",
    "yield_stress = 1200  # Example yield stress value\n",
    "\n",
    "# Find the index corresponding to the yield point\n",
    "yield_index = np.argmax(stress > yield_stress)\n",
    "\n",
    "# Extract the strain data from the yield point to the end\n",
    "plastic_strain = strain[yield_index:]\n",
    "\n",
    "# Calculate the true plastic strain by integrating the data\n",
    "true_plastic_strain = np.trapz(plastic_strain)\n",
    "\n",
    "print(f\"True Plastic Strain for 'chd6': {true_plastic_strain}\")\n"
   ]
  },
  {
   "cell_type": "code",
   "execution_count": 3,
   "metadata": {},
   "outputs": [
    {
     "name": "stdout",
     "output_type": "stream",
     "text": [
      "True Plastic Strain for 'ndbr50': 469798.50000000006\n"
     ]
    }
   ],
   "source": [
    "import numpy as np\n",
    "import pandas as pd\n",
    "\n",
    "# Load the stress and strain data from the CSV files\n",
    "stress_data = pd.read_csv('MODEL_DATA/StressStrain/ndbr50_stress_data.csv', header=None)\n",
    "strain_data = pd.read_csv('MODEL_DATA/StressStrain/ndbr50_strain_data.csv', header=None)\n",
    "\n",
    "# Extract stress and strain as NumPy arrays\n",
    "stress = stress_data.values.flatten()\n",
    "strain = strain_data.values.flatten()\n",
    "\n",
    "# Replace this with the actual yield stress value for 'chd6'\n",
    "yield_stress = 200  # Example yield stress value\n",
    "\n",
    "# Find the index corresponding to the yield point\n",
    "yield_index = np.argmax(stress > yield_stress)\n",
    "\n",
    "# Extract the strain data from the yield point to the end\n",
    "plastic_strain = strain[yield_index:]\n",
    "\n",
    "# Calculate the true plastic strain by integrating the data\n",
    "true_plastic_strain = np.trapz(plastic_strain)\n",
    "\n",
    "print(f\"True Plastic Strain for 'ndbr50': {true_plastic_strain}\")\n"
   ]
  },
  {
   "cell_type": "code",
   "execution_count": 6,
   "metadata": {},
   "outputs": [
    {
     "name": "stdout",
     "output_type": "stream",
     "text": [
      "True Plastic Strain for 'ndbr20': 469798.50000000006\n"
     ]
    }
   ],
   "source": [
    "import numpy as np\n",
    "import pandas as pd\n",
    "\n",
    "# Load the stress and strain data from the CSV files\n",
    "stress_data = pd.read_csv('MODEL_DATA/StressStrain/ndbr20_stress_data.csv', header=None)\n",
    "strain_data = pd.read_csv('MODEL_DATA/StressStrain/ndbr20_strain_data.csv', header=None)\n",
    "\n",
    "# Extract stress and strain as NumPy arrays\n",
    "stress = stress_data.values.flatten()\n",
    "strain = strain_data.values.flatten()\n",
    "\n",
    "# Replace this with the actual yield stress value for 'chd6'\n",
    "yield_stress = 200  # Example yield stress value\n",
    "\n",
    "# Find the index corresponding to the yield point\n",
    "yield_index = np.argmax(stress > yield_stress)\n",
    "\n",
    "# Extract the strain data from the yield point to the end\n",
    "plastic_strain = strain[yield_index:]\n",
    "\n",
    "# Calculate the true plastic strain by integrating the data\n",
    "true_plastic_strain = np.trapz(plastic_strain)\n",
    "\n",
    "print(f\"True Plastic Strain for 'ndbr20': {true_plastic_strain}\")"
   ]
  },
  {
   "cell_type": "code",
   "execution_count": 7,
   "metadata": {},
   "outputs": [
    {
     "name": "stdout",
     "output_type": "stream",
     "text": [
      "True Plastic Strain for 'ndbr6': 469798.50000000006\n"
     ]
    }
   ],
   "source": [
    "import numpy as np\n",
    "import pandas as pd\n",
    "\n",
    "# Load the stress and strain data from the CSV files\n",
    "stress_data = pd.read_csv('MODEL_DATA/StressStrain/ndbr6_stress_data.csv', header=None)\n",
    "strain_data = pd.read_csv('MODEL_DATA/StressStrain/ndbr6_strain_data.csv', header=None)\n",
    "\n",
    "# Extract stress and strain as NumPy arrays\n",
    "stress = stress_data.values.flatten()\n",
    "strain = strain_data.values.flatten()\n",
    "\n",
    "# Replace this with the actual yield stress value for 'chd6'\n",
    "yield_stress = 200  # Example yield stress value\n",
    "\n",
    "# Find the index corresponding to the yield point\n",
    "yield_index = np.argmax(stress > yield_stress)\n",
    "\n",
    "# Extract the strain data from the yield point to the end\n",
    "plastic_strain = strain[yield_index:]\n",
    "\n",
    "# Calculate the true plastic strain by integrating the data\n",
    "true_plastic_strain = np.trapz(plastic_strain)\n",
    "\n",
    "print(f\"True Plastic Strain for 'ndbr6': {true_plastic_strain}\")"
   ]
  }
 ],
 "metadata": {
  "kernelspec": {
   "display_name": "Python 3",
   "language": "python",
   "name": "python3"
  },
  "language_info": {
   "codemirror_mode": {
    "name": "ipython",
    "version": 3
   },
   "file_extension": ".py",
   "mimetype": "text/x-python",
   "name": "python",
   "nbconvert_exporter": "python",
   "pygments_lexer": "ipython3",
   "version": "3.11.5"
  }
 },
 "nbformat": 4,
 "nbformat_minor": 2
}
