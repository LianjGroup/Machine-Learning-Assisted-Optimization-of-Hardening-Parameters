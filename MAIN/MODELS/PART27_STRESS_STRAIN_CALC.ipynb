{
 "cells": [
  {
   "cell_type": "code",
   "execution_count": 1,
   "metadata": {},
   "outputs": [],
   "source": [
    "import pandas as pd\n",
    "import numpy as np\n",
    "\n",
    "def swiftVoceT(x, c1, c2, c3, c4, c5, c6, c7):\n",
    "    return c1 * c2 * (x + c3) ** c4 + (1 - c1) * c5 + c6 * (1 - np.exp(-c7 * x))\n",
    "\n",
    "truePlasticStrain = np.arange(0, 3.0005, 0.0005)\n",
    "c1 = 0.4459129273891449\n",
    "c2 = 1200.0\n",
    "c3 = 0.0010000000474974513\n",
    "c4 = 0.10000000149011612\n",
    "c5 = 645.9520874023438\n",
    "c6 = 1000.0\n",
    "c7 = 100.0\n",
    "\n",
    "y_line_maxStress_sw_predicted = swiftVoceT(truePlasticStrain, c1, c2, c3, c4, c5, c6, c7)\n",
    "\n",
    "# Create a DataFrame with strain and stress columns\n",
    "df = pd.DataFrame({'Stress': y_line_maxStress_sw_predicted, 'Strain': truePlasticStrain})\n",
    "\n",
    "# Export the DataFrame to a CSV file\n",
    "df.to_csv('stress_strain_data.csv', index=False)\n"
   ]
  }
 ],
 "metadata": {
  "kernelspec": {
   "display_name": "Python 3",
   "language": "python",
   "name": "python3"
  },
  "language_info": {
   "codemirror_mode": {
    "name": "ipython",
    "version": 3
   },
   "file_extension": ".py",
   "mimetype": "text/x-python",
   "name": "python",
   "nbconvert_exporter": "python",
   "pygments_lexer": "ipython3",
   "version": "3.11.5"
  }
 },
 "nbformat": 4,
 "nbformat_minor": 2
}
