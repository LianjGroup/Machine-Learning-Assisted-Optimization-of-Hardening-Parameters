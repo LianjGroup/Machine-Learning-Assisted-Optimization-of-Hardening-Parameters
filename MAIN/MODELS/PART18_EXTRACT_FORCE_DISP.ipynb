{
 "cells": [
  {
   "cell_type": "code",
   "execution_count": null,
   "metadata": {},
   "outputs": [],
   "source": [
    "import numpy as np\n",
    "import pandas as pd\n",
    "\n",
    "# Specify the path to the .npy file\n",
    "file_name = \"00_CHD6_FD_Curves_smooth.npy\"\n",
    "loaded_data = np.load(file_name, allow_pickle=True)[()]\n",
    "\n",
    "# Extract the 'force' and 'displacement' data\n",
    "force_data = loaded_data[list(loaded_data.keys())[0]]['force']\n",
    "displacement_data = loaded_data[list(loaded_data.keys())[0]]['displacement']\n",
    "\n",
    "# Create a combined DataFrame\n",
    "combined_df = pd.DataFrame({'Force': force_data, 'Displacement': displacement_data})\n",
    "\n",
    "# Export the combined DataFrame to a CSV file\n",
    "combined_df.to_csv('realFD_chd6.csv', index=False)\n",
    "\n",
    "print(\"CSV file 'realFD_chd6.csv' exported with Force in the first column and Displacement in the second column.\")"
   ]
  }
 ],
 "metadata": {
  "language_info": {
   "name": "python"
  }
 },
 "nbformat": 4,
 "nbformat_minor": 2
}
