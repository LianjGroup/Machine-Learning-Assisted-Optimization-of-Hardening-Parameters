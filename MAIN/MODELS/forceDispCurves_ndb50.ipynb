{
 "cells": [
  {
   "cell_type": "code",
   "execution_count": null,
   "metadata": {},
   "outputs": [],
   "source": [
    "import pandas as pd\n",
    "import matplotlib.pyplot as plt\n",
    "\n",
    "# Define the file path and folder name\n",
    "file_path_ndbr50_25c = 'EXP_FD/NDBR50_FD_Curve.csv'\n",
    "file_path_ndbr50_400c = 'EXP_FD/400c/NDBR50_400C_FD_Curve.csv'\n",
    "file_path_ndbr50_25c_predicted = 'ndb50_25c_FD.csv'\n",
    "file_path_ndbr50_400c_predicted = 'ndb50_400c_FD.csv'\n",
    "\n",
    "# Read the data from the CSV file\n",
    "data_ndbr50_25c = pd.read_csv(file_path_ndbr50_25c)\n",
    "data_ndbr50_400c = pd.read_csv(file_path_ndbr50_400c)\n",
    "data_ndbr50_25c_predicted = pd.read_csv(file_path_ndbr50_25c_predicted)\n",
    "data_ndbr50_400c_predicted = pd.read_csv(file_path_ndbr50_400c_predicted)\n",
    "\n",
    "# Extract the displacement and force columns\n",
    "disp_ndbr50_25c = data_ndbr50_25c['displacement/mm']\n",
    "force_ndbr50_25c = data_ndbr50_25c['force/kN']\n",
    "\n",
    "disp_ndbr50_400c = data_ndbr50_400c['displacement/mm']\n",
    "force_ndbr50_400c = data_ndbr50_400c['force/kN']\n",
    "\n",
    "disp_ndbr50_25c_predicted = data_ndbr50_25c_predicted['Disp']\n",
    "force_ndbr50_25c_predicted = data_ndbr50_25c_predicted['Force']\n",
    "\n",
    "disp_ndbr50_400c_predicted = data_ndbr50_400c_predicted['Disp']\n",
    "force_ndbr50_400c_predicted = data_ndbr50_400c_predicted['Force']\n",
    "\n",
    "# Create a Force-Displacement curve for 25C \n",
    "plt.figure(figsize=(10, 6))\n",
    "plt.plot(disp_ndbr50_25c, force_ndbr50_25c, marker='o', linestyle='-')\n",
    "plt.plot(disp_ndbr50_400c, force_ndbr50_400c, marker='o', linestyle='-')\n",
    "plt.plot(disp_ndbr50_25c_predicted, force_ndbr50_25c_predicted, marker='o', linestyle='-')\n",
    "plt.plot(disp_ndbr50_400c_predicted, force_ndbr50_400c_predicted, marker='o', linestyle='-')\n",
    "\n",
    "plt.title('Experimental vs Prediced FD Curve NDB50 @ 25C')\n",
    "plt.xlabel('Displacement (mm)')\n",
    "plt.ylabel('Force (N)')\n",
    "plt.grid(True)\n",
    "\n",
    "# Display the plot or save it to a file\n",
    "plt.show()"
   ]
  }
 ],
 "metadata": {
  "language_info": {
   "name": "python"
  }
 },
 "nbformat": 4,
 "nbformat_minor": 2
}
