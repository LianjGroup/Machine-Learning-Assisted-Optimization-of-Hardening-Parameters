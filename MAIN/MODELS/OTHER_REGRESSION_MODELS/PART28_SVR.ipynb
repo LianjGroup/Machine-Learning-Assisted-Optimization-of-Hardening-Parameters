{
 "cells": [
  {
   "cell_type": "code",
   "execution_count": 3,
   "metadata": {},
   "outputs": [
    {
     "name": "stdout",
     "output_type": "stream",
     "text": [
      "Geometry: NDBR50, Mean Squared Error: 0.0640\n",
      "Geometry: NDBR20, Mean Squared Error: 318507.1499\n",
      "Geometry: NDBR6, Mean Squared Error: 0.0009\n",
      "Geometry: CHD6, Mean Squared Error: 0.0740\n",
      "Predicted parameters for geometry NDBR50:\n",
      "[0.66789742 0.65655475 0.56576199 ... 0.64434438 0.68429448 0.74799144]\n",
      "Predicted parameters for geometry NDBR20:\n",
      "[594467.31991057 607735.15177902 821305.73199611 ... 641579.94084196\n",
      " 550432.71430155 391978.43967089]\n",
      "Predicted parameters for geometry NDBR6:\n",
      "[0.05124584 0.05124584 0.05124584 ... 0.05124584 0.05124584 0.05124584]\n",
      "Predicted parameters for geometry CHD6:\n",
      "[0.65293428 0.6482226  0.5972862  ... 0.6335797  0.66303742 0.70077395]\n"
     ]
    }
   ],
   "source": [
    "import numpy as np\n",
    "import pandas as pd\n",
    "import matplotlib.pyplot as plt\n",
    "from sklearn.svm import SVR\n",
    "from sklearn.model_selection import train_test_split\n",
    "from sklearn.preprocessing import StandardScaler\n",
    "\n",
    "# Load your data\n",
    "X_files = {\n",
    "    'NDBR50': \"MODEL_DATA/NEWDATA/newData_NDBR50_FD.csv\",\n",
    "    'NDBR20': \"MODEL_DATA/NEWDATA/newData_NDBR20_FD.csv\",\n",
    "    'NDBR6': \"MODEL_DATA/NEWDATA/newData_NDBR6_FD.csv\",\n",
    "    'CHD6': \"MODEL_DATA/NEWDATA/newData_CHD6_FD.csv\"\n",
    "}\n",
    "\n",
    "Y_file = \"MODEL_DATA/NEWDATA/newData_expanded_realHardParam.csv\"\n",
    "\n",
    "geometries = ['NDBR50', 'NDBR20', 'NDBR6', 'CHD6']\n",
    "\n",
    "X_data = {geometry: pd.read_csv(X_files[geometry], usecols=[0, 1]).values for geometry in geometries}\n",
    "Y_data = pd.read_csv(Y_file).values\n",
    "\n",
    "# Define the target values for 'c1' to 'c7'\n",
    "target_values = np.array([0.5, 1300, 2.3 * 10**-14, 0.075, 773.18, 1039.37, 73.94])\n",
    "\n",
    "# Initialize SVR models for each geometry\n",
    "svr_models = {geometry: SVR(kernel='linear') for geometry in geometries}\n",
    "\n",
    "# Train SVR models and make predictions\n",
    "predicted_parameters = {}\n",
    "for geometry in geometries:\n",
    "    X_sample = X_data[geometry]\n",
    "    Y_sample = Y_data[:, geometries.index(geometry)]\n",
    "    \n",
    "    # Split the data into training and testing sets (you can also use cross-validation)\n",
    "    X_train, X_test, Y_train, Y_test = train_test_split(X_sample, Y_sample, test_size=0.2, random_state=42)\n",
    "    \n",
    "    # Standardize features by removing the mean and scaling to unit variance\n",
    "    scaler = StandardScaler()\n",
    "    X_train = scaler.fit_transform(X_train)\n",
    "    X_test = scaler.transform(X_test)\n",
    "    \n",
    "    # Train the SVR model\n",
    "    svr_models[geometry].fit(X_train, Y_train)\n",
    "    \n",
    "    # Make predictions on the test set\n",
    "    predictions = svr_models[geometry].predict(X_test)\n",
    "    \n",
    "    # Calculate the mean squared error (MSE) or other evaluation metrics if needed\n",
    "    mse = np.mean((predictions - Y_test) ** 2)\n",
    "    print(f\"Geometry: {geometry}, Mean Squared Error: {mse:.4f}\")\n",
    "    \n",
    "    # Inverse transform the predictions to get 'c1' to 'c7' values\n",
    "    predicted_parameters[geometry] = predictions * np.std(Y_sample) + np.mean(Y_sample)\n",
    "\n",
    "# Print predicted 'c1' to 'c7' values for each geometry\n",
    "for geometry, params in predicted_parameters.items():\n",
    "    print(f'Predicted parameters for geometry {geometry}:')\n",
    "    print(params)\n"
   ]
  }
 ],
 "metadata": {
  "kernelspec": {
   "display_name": "Python 3",
   "language": "python",
   "name": "python3"
  },
  "language_info": {
   "codemirror_mode": {
    "name": "ipython",
    "version": 3
   },
   "file_extension": ".py",
   "mimetype": "text/x-python",
   "name": "python",
   "nbconvert_exporter": "python",
   "pygments_lexer": "ipython3",
   "version": "3.11.5"
  }
 },
 "nbformat": 4,
 "nbformat_minor": 2
}
