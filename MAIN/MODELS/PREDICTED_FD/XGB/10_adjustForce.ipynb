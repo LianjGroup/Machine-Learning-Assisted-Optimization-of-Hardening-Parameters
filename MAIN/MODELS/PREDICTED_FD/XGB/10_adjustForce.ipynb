{
 "cells": [
  {
   "cell_type": "code",
   "execution_count": 8,
   "metadata": {},
   "outputs": [],
   "source": [
    "import pandas as pd\n",
    "\n",
    "# Read the CSV file\n",
    "df = pd.read_csv('chd6_xgb_400c_processed.csv')\n",
    "\n",
    "# Divide the values in the \"Force\" column by 2\n",
    "df['Force'] = df['Force'] / 2\n",
    "\n",
    "# Save the updated data to the same CSV file (overwrite)\n",
    "df.to_csv('chd6_xgb_400c_processed.csv', index=False)"
   ]
  }
 ],
 "metadata": {
  "kernelspec": {
   "display_name": "Python 3",
   "language": "python",
   "name": "python3"
  },
  "language_info": {
   "codemirror_mode": {
    "name": "ipython",
    "version": 3
   },
   "file_extension": ".py",
   "mimetype": "text/x-python",
   "name": "python",
   "nbconvert_exporter": "python",
   "pygments_lexer": "ipython3",
   "version": "3.11.5"
  }
 },
 "nbformat": 4,
 "nbformat_minor": 2
}
